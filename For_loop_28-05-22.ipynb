{
 "cells": [
  {
   "cell_type": "code",
   "execution_count": 1,
   "id": "72a534b5",
   "metadata": {},
   "outputs": [],
   "source": [
    "l = [1,2,3,4,\"rulu\" , \"swuro\" , 23.34]"
   ]
  },
  {
   "cell_type": "code",
   "execution_count": 2,
   "id": "630d378f",
   "metadata": {},
   "outputs": [
    {
     "name": "stdout",
     "output_type": "stream",
     "text": [
      "1\n",
      "2\n",
      "3\n",
      "4\n",
      "rulu\n",
      "swuro\n",
      "23.34\n"
     ]
    }
   ],
   "source": [
    "for i in l :\n",
    "    print(i)"
   ]
  },
  {
   "cell_type": "code",
   "execution_count": 3,
   "id": "a6a06eda",
   "metadata": {},
   "outputs": [],
   "source": [
    "for i in l:\n",
    "    pass"
   ]
  },
  {
   "cell_type": "code",
   "execution_count": 4,
   "id": "97b14f1d",
   "metadata": {},
   "outputs": [
    {
     "name": "stdout",
     "output_type": "stream",
     "text": [
      "r\n",
      "u\n",
      "l\n",
      "u\n"
     ]
    }
   ],
   "source": [
    "r = \"rulu\"\n",
    "for i in r :\n",
    "    print(i)"
   ]
  },
  {
   "cell_type": "code",
   "execution_count": 5,
   "id": "f8abd4e6",
   "metadata": {},
   "outputs": [
    {
     "name": "stdout",
     "output_type": "stream",
     "text": [
      "1\n",
      "2\n",
      "3\n",
      "4\n",
      "rulu\n",
      "swuro\n",
      "23.34\n",
      "if for loop is going to complete itself, then it will execute else\n"
     ]
    }
   ],
   "source": [
    "for i in l:\n",
    "    print(i)\n",
    "else :\n",
    "    print(\"if for loop is going to complete itself, then it will execute else\")"
   ]
  },
  {
   "cell_type": "code",
   "execution_count": 6,
   "id": "3ecbd559",
   "metadata": {},
   "outputs": [
    {
     "data": {
      "text/plain": [
       "[1, 2, 3, 4, 'rulu', 'swuro', 23.34]"
      ]
     },
     "execution_count": 6,
     "metadata": {},
     "output_type": "execute_result"
    }
   ],
   "source": [
    "l"
   ]
  },
  {
   "cell_type": "code",
   "execution_count": 7,
   "id": "cef2bf40",
   "metadata": {},
   "outputs": [
    {
     "name": "stdout",
     "output_type": "stream",
     "text": [
      "1\n",
      "2\n",
      "3\n"
     ]
    }
   ],
   "source": [
    "for i in l :\n",
    "    if i == 4 :\n",
    "        break\n",
    "    print(i)\n",
    "else :\n",
    "    print(\"this will execute only for is going to complete itself\")"
   ]
  },
  {
   "cell_type": "code",
   "execution_count": 8,
   "id": "3b5ddc2d",
   "metadata": {},
   "outputs": [
    {
     "name": "stdout",
     "output_type": "stream",
     "text": [
      "r\n",
      "u\n",
      "l\n",
      "u\n",
      "y\n",
      "i\n",
      "s\n",
      "w\n",
      "u\n",
      "r\n",
      "o\n",
      "print string ruluyiswuro\n"
     ]
    }
   ],
   "source": [
    "s = \"ruluyiswuro\"\n",
    "for i in s :\n",
    "    if i == 'z' :\n",
    "        break\n",
    "    print(i)\n",
    "else :\n",
    "    print(\"print string\", s)"
   ]
  },
  {
   "cell_type": "code",
   "execution_count": 9,
   "id": "b38469a8",
   "metadata": {},
   "outputs": [
    {
     "name": "stdout",
     "output_type": "stream",
     "text": [
      "4\n",
      "5\n",
      "6\n",
      "7\n",
      "8\n",
      "6\n",
      "rulu\n"
     ]
    }
   ],
   "source": [
    "t = (4,5,6,7,8,6,\"rulu\")\n",
    "for i in t:\n",
    "    print(i)"
   ]
  },
  {
   "cell_type": "code",
   "execution_count": 11,
   "id": "67532a6e",
   "metadata": {},
   "outputs": [],
   "source": [
    "b = {4,5,6,7,7,7,7,7,8,\"rulu\"}"
   ]
  },
  {
   "cell_type": "code",
   "execution_count": 12,
   "id": "722b053c",
   "metadata": {},
   "outputs": [
    {
     "data": {
      "text/plain": [
       "set"
      ]
     },
     "execution_count": 12,
     "metadata": {},
     "output_type": "execute_result"
    }
   ],
   "source": [
    "type(b)"
   ]
  },
  {
   "cell_type": "code",
   "execution_count": 13,
   "id": "9e53edfd",
   "metadata": {},
   "outputs": [
    {
     "data": {
      "text/plain": [
       "{4, 5, 6, 7, 8, 'rulu'}"
      ]
     },
     "execution_count": 13,
     "metadata": {},
     "output_type": "execute_result"
    }
   ],
   "source": [
    "b"
   ]
  },
  {
   "cell_type": "code",
   "execution_count": 14,
   "id": "cef68d2a",
   "metadata": {},
   "outputs": [
    {
     "name": "stdout",
     "output_type": "stream",
     "text": [
      "4\n",
      "5\n",
      "6\n",
      "7\n",
      "8\n",
      "rulu\n"
     ]
    }
   ],
   "source": [
    "for i in b :\n",
    "    print(i)"
   ]
  },
  {
   "cell_type": "code",
   "execution_count": 15,
   "id": "ba0b053b",
   "metadata": {},
   "outputs": [],
   "source": [
    "d = {'key1' : \"sudh\" , 'contact' : \"sudhanshu@ineuron.ai\" , \"position\" : \"xyz\"}"
   ]
  },
  {
   "cell_type": "code",
   "execution_count": 16,
   "id": "6976e87e",
   "metadata": {},
   "outputs": [
    {
     "name": "stdout",
     "output_type": "stream",
     "text": [
      "key1 : sudh\n",
      "contact : sudhanshu@ineuron.ai\n",
      "position : xyz\n"
     ]
    }
   ],
   "source": [
    "for i in d :\n",
    "    print(i,\":\", d[i] )"
   ]
  },
  {
   "cell_type": "code",
   "execution_count": 17,
   "id": "29c83a83",
   "metadata": {},
   "outputs": [
    {
     "data": {
      "text/plain": [
       "'sudh'"
      ]
     },
     "execution_count": 17,
     "metadata": {},
     "output_type": "execute_result"
    }
   ],
   "source": [
    "d['key1']"
   ]
  },
  {
   "cell_type": "code",
   "execution_count": 18,
   "id": "875ce15c",
   "metadata": {},
   "outputs": [
    {
     "data": {
      "text/plain": [
       "range(0, 9)"
      ]
     },
     "execution_count": 18,
     "metadata": {},
     "output_type": "execute_result"
    }
   ],
   "source": [
    "range(9)"
   ]
  },
  {
   "cell_type": "code",
   "execution_count": 19,
   "id": "10919876",
   "metadata": {},
   "outputs": [
    {
     "data": {
      "text/plain": [
       "[0, 1, 2, 3, 4, 5, 6, 7, 8]"
      ]
     },
     "execution_count": 19,
     "metadata": {},
     "output_type": "execute_result"
    }
   ],
   "source": [
    "list(range(9))"
   ]
  },
  {
   "cell_type": "code",
   "execution_count": 20,
   "id": "a35ebc4a",
   "metadata": {},
   "outputs": [
    {
     "name": "stdout",
     "output_type": "stream",
     "text": [
      "0\n",
      "1\n",
      "2\n",
      "3\n",
      "4\n",
      "5\n",
      "6\n",
      "7\n",
      "8\n"
     ]
    }
   ],
   "source": [
    "for i in range(9):\n",
    "    print(i)"
   ]
  },
  {
   "cell_type": "code",
   "execution_count": 21,
   "id": "82a0e85c",
   "metadata": {},
   "outputs": [
    {
     "data": {
      "text/plain": [
       "[0, 1, 2, 3, 4, 5, 6, 7, 8]"
      ]
     },
     "execution_count": 21,
     "metadata": {},
     "output_type": "execute_result"
    }
   ],
   "source": [
    "list(range(0,9))"
   ]
  },
  {
   "cell_type": "code",
   "execution_count": 22,
   "id": "bacfd942",
   "metadata": {},
   "outputs": [
    {
     "data": {
      "text/plain": [
       "[0, 2, 4, 6, 8]"
      ]
     },
     "execution_count": 22,
     "metadata": {},
     "output_type": "execute_result"
    }
   ],
   "source": [
    "list(range(0,9, 2))"
   ]
  },
  {
   "cell_type": "code",
   "execution_count": 23,
   "id": "d701ba84",
   "metadata": {},
   "outputs": [
    {
     "data": {
      "text/plain": [
       "[]"
      ]
     },
     "execution_count": 23,
     "metadata": {},
     "output_type": "execute_result"
    }
   ],
   "source": [
    "list(range(0,9, -1))"
   ]
  },
  {
   "cell_type": "code",
   "execution_count": 24,
   "id": "25692284",
   "metadata": {},
   "outputs": [
    {
     "data": {
      "text/plain": [
       "[9, 8, 7, 6, 5, 4, 3, 2, 1]"
      ]
     },
     "execution_count": 24,
     "metadata": {},
     "output_type": "execute_result"
    }
   ],
   "source": [
    "list(range(9,0 , -1))"
   ]
  },
  {
   "cell_type": "code",
   "execution_count": 25,
   "id": "3afdde2c",
   "metadata": {},
   "outputs": [
    {
     "name": "stdout",
     "output_type": "stream",
     "text": [
      "Rulu \n",
      "\n",
      "Rulu Rulu \n",
      "\n",
      "Rulu Rulu Rulu \n",
      "\n",
      "Rulu Rulu Rulu Rulu \n",
      "\n"
     ]
    }
   ],
   "source": [
    "n =4\n",
    "for i in range(4) :\n",
    "    for j in range(0 ,i+1) :\n",
    "        print(\"Rulu\" , end = \" \")\n",
    "    print(\"\\n\")"
   ]
  },
  {
   "cell_type": "code",
   "execution_count": 36,
   "id": "b9b89612",
   "metadata": {},
   "outputs": [
    {
     "name": "stdout",
     "output_type": "stream",
     "text": [
      "          sudh \n",
      "     sudh sudh sudh \n",
      "sudh sudh sudh sudh sudh \n"
     ]
    }
   ],
   "source": [
    "n = 3 \n",
    "for i in range(n) :\n",
    "    for j in range(i,n-1) :\n",
    "        print(\" \" * len(\"sudh\"),end=\" \")\n",
    "    for j in range(i+1):\n",
    "        print(\"sudh\",end=\" \")\n",
    "    for j in range(i):\n",
    "            print(\"sudh\",end=\" \")\n",
    "    print()"
   ]
  },
  {
   "cell_type": "code",
   "execution_count": 37,
   "id": "1013305e",
   "metadata": {},
   "outputs": [],
   "source": [
    "t = (3,23,45,67,3,4,2,6)"
   ]
  },
  {
   "cell_type": "code",
   "execution_count": 38,
   "id": "1d62c4f6",
   "metadata": {},
   "outputs": [
    {
     "name": "stdout",
     "output_type": "stream",
     "text": [
      "0 3\n",
      "1 23\n",
      "2 45\n",
      "3 67\n",
      "4 3\n",
      "5 4\n",
      "6 2\n",
      "7 6\n"
     ]
    }
   ],
   "source": [
    "for i in range(len(t)):\n",
    "    print(i,t[i])"
   ]
  },
  {
   "cell_type": "code",
   "execution_count": 39,
   "id": "ad251682",
   "metadata": {},
   "outputs": [
    {
     "name": "stdout",
     "output_type": "stream",
     "text": [
      "0 i\n",
      "1 n\n",
      "2 e\n",
      "3 u\n",
      "4 r\n",
      "5 o\n",
      "6 n\n"
     ]
    }
   ],
   "source": [
    "s = \"ineuron\"\n",
    "for i in range(len(s)):\n",
    "    print(i,s[i])"
   ]
  },
  {
   "cell_type": "code",
   "execution_count": 40,
   "id": "623109cb",
   "metadata": {},
   "outputs": [],
   "source": [
    "s = \"ineuron\""
   ]
  },
  {
   "cell_type": "code",
   "execution_count": 41,
   "id": "92fc418c",
   "metadata": {},
   "outputs": [
    {
     "data": {
      "text/plain": [
       "[6, 5, 4, 3, 2, 1, 0]"
      ]
     },
     "execution_count": 41,
     "metadata": {},
     "output_type": "execute_result"
    }
   ],
   "source": [
    "list(range(len(s)-1 , -1, -1))"
   ]
  },
  {
   "cell_type": "code",
   "execution_count": 42,
   "id": "762463ef",
   "metadata": {},
   "outputs": [
    {
     "name": "stdout",
     "output_type": "stream",
     "text": [
      "6 n\n",
      "5 o\n",
      "4 r\n",
      "3 u\n",
      "2 e\n",
      "1 n\n",
      "0 i\n"
     ]
    }
   ],
   "source": [
    "s = \"ineuron\"\n",
    "for i in list(range(len(s)-1 , -1, -1)):\n",
    "    print(i,s[i])"
   ]
  },
  {
   "cell_type": "code",
   "execution_count": 43,
   "id": "4c4d32b0",
   "metadata": {},
   "outputs": [
    {
     "data": {
      "text/plain": [
       "{'key1': 'sudh', 'contact': 'sudhanshu@ineuron.ai', 'position': 'xyz'}"
      ]
     },
     "execution_count": 43,
     "metadata": {},
     "output_type": "execute_result"
    }
   ],
   "source": [
    "d"
   ]
  },
  {
   "cell_type": "code",
   "execution_count": 44,
   "id": "b740cb7a",
   "metadata": {},
   "outputs": [
    {
     "name": "stdout",
     "output_type": "stream",
     "text": [
      "('key1', 'sudh') <class 'tuple'> <class 'str'>\n",
      "('contact', 'sudhanshu@ineuron.ai') <class 'tuple'> <class 'str'>\n",
      "('position', 'xyz') <class 'tuple'> <class 'str'>\n"
     ]
    }
   ],
   "source": [
    "for i in d.items():\n",
    "    print(i,type(i), type(i[1]))"
   ]
  },
  {
   "cell_type": "code",
   "execution_count": 45,
   "id": "0d130757",
   "metadata": {},
   "outputs": [],
   "source": [
    "l = [\"rulu\", \"swuro\", 2453, \"ruluyiswu@ineuron.ai\",234, 34535]\n",
    "l1 = []\n",
    "for i in l :\n",
    "    if type(i) == int :\n",
    "        l1.append(i)"
   ]
  },
  {
   "cell_type": "code",
   "execution_count": 46,
   "id": "8b8acb5b",
   "metadata": {},
   "outputs": [
    {
     "data": {
      "text/plain": [
       "[2453, 234, 34535]"
      ]
     },
     "execution_count": 46,
     "metadata": {},
     "output_type": "execute_result"
    }
   ],
   "source": [
    "l1"
   ]
  },
  {
   "cell_type": "code",
   "execution_count": 47,
   "id": "1d91b4b5",
   "metadata": {},
   "outputs": [],
   "source": [
    "d = {1:264563, \"name\" : \"rulu\", \"email_id\" : \"rulu@gmail.ai\", 234 : \"dgahjd\", \"23\" : \"agdh\", 234 : \"2645\"}"
   ]
  },
  {
   "cell_type": "code",
   "execution_count": 48,
   "id": "fee0e243",
   "metadata": {},
   "outputs": [
    {
     "name": "stdout",
     "output_type": "stream",
     "text": [
      "1 : 264563\n",
      "234 : 2645\n"
     ]
    }
   ],
   "source": [
    "for i in d :\n",
    "    if type(i)==int:\n",
    "        print(i, \":\", d[i])"
   ]
  },
  {
   "cell_type": "code",
   "execution_count": 49,
   "id": "d19a385e",
   "metadata": {},
   "outputs": [],
   "source": [
    "s = \"aaaabbccd\""
   ]
  },
  {
   "cell_type": "code",
   "execution_count": 50,
   "id": "b6eb2d4e",
   "metadata": {},
   "outputs": [
    {
     "name": "stdout",
     "output_type": "stream",
     "text": [
      "b : 2\n",
      "d : 1\n",
      "c : 2\n",
      "a : 4\n"
     ]
    }
   ],
   "source": [
    "for i in set(s) :\n",
    "    print(i,\":\", s.count(i))"
   ]
  },
  {
   "cell_type": "code",
   "execution_count": 51,
   "id": "806e165d",
   "metadata": {},
   "outputs": [
    {
     "data": {
      "text/plain": [
       "4"
      ]
     },
     "execution_count": 51,
     "metadata": {},
     "output_type": "execute_result"
    }
   ],
   "source": [
    "s.count('a')"
   ]
  },
  {
   "cell_type": "code",
   "execution_count": 52,
   "id": "5a5e3d15",
   "metadata": {},
   "outputs": [
    {
     "name": "stdout",
     "output_type": "stream",
     "text": [
      "2 <class 'int'>\n",
      "3 <class 'int'>\n",
      "4 <class 'int'>\n",
      "2 <class 'int'>\n",
      "4 <class 'int'>\n",
      "3 <class 'int'>\n",
      "5 <class 'int'>\n",
      "5 <class 'int'>\n",
      "4 <class 'int'>\n",
      "5 <class 'int'>\n",
      "4 <class 'int'>\n",
      "5 <class 'int'>\n",
      "3 <class 'int'>\n"
     ]
    }
   ],
   "source": [
    "i = 2342435545453\n",
    "for j in str(i):\n",
    "    print(int(j),type(int(j)))"
   ]
  },
  {
   "cell_type": "code",
   "execution_count": 53,
   "id": "1f3569ac",
   "metadata": {},
   "outputs": [
    {
     "data": {
      "text/plain": [
       "'2342435545453'"
      ]
     },
     "execution_count": 53,
     "metadata": {},
     "output_type": "execute_result"
    }
   ],
   "source": [
    "str(i)"
   ]
  },
  {
   "cell_type": "code",
   "execution_count": null,
   "id": "b075da63",
   "metadata": {},
   "outputs": [],
   "source": [
    "#Extract all the 3's from the tuple"
   ]
  },
  {
   "cell_type": "code",
   "execution_count": 54,
   "id": "48f6cd46",
   "metadata": {},
   "outputs": [],
   "source": [
    "t = (\"sudh\",\"kumar\", [1,2,3,4,5], (1,2,3,4), {3:3, \"key1\":\"sudh\",\"key2\":\"kumar\"})"
   ]
  },
  {
   "cell_type": "code",
   "execution_count": 55,
   "id": "bb03d6fb",
   "metadata": {},
   "outputs": [
    {
     "name": "stdout",
     "output_type": "stream",
     "text": [
      "3\n",
      "3\n",
      "3\n",
      "3\n"
     ]
    }
   ],
   "source": [
    "for i in t :\n",
    "    if type(i)==list or type(i)==tuple :\n",
    "        for j in i:\n",
    "            if j==3:\n",
    "                print(j)\n",
    "    if type(i)==dict :\n",
    "        for k,v in i.items():\n",
    "            if k == 3 or v == 3:\n",
    "                print(k)\n",
    "                print(v)"
   ]
  },
  {
   "cell_type": "code",
   "execution_count": 56,
   "id": "fb80dad5",
   "metadata": {},
   "outputs": [],
   "source": [
    "d = {4:5, \"key1\" : \"rulu\" , \"key2\" : \"swuro\"}"
   ]
  },
  {
   "cell_type": "code",
   "execution_count": 57,
   "id": "878050ec",
   "metadata": {},
   "outputs": [
    {
     "name": "stdout",
     "output_type": "stream",
     "text": [
      "4\n",
      "key1\n",
      "key2\n"
     ]
    }
   ],
   "source": [
    "for i,j in d.items():\n",
    "    print(i)"
   ]
  },
  {
   "cell_type": "code",
   "execution_count": 58,
   "id": "0ae71856",
   "metadata": {},
   "outputs": [
    {
     "data": {
      "text/plain": [
       "dict_items([(4, 5), ('key1', 'rulu'), ('key2', 'swuro')])"
      ]
     },
     "execution_count": 58,
     "metadata": {},
     "output_type": "execute_result"
    }
   ],
   "source": [
    "d.items()"
   ]
  },
  {
   "cell_type": "code",
   "execution_count": 127,
   "id": "bbb59a58",
   "metadata": {},
   "outputs": [
    {
     "name": "stdout",
     "output_type": "stream",
     "text": [
      "ineuron \n",
      "\n",
      "ineuron ineuron \n",
      "\n",
      "ineuron ineuron ineuron \n",
      "\n",
      "ineuron ineuron ineuron ineuron \n",
      "\n"
     ]
    }
   ],
   "source": [
    "n=4 \n",
    "for i in range(4):\n",
    "    for j in range(0,i+1):\n",
    "        print(\"ineuron\",end = \" \")\n",
    "    print(\"\\n\")"
   ]
  },
  {
   "cell_type": "code",
   "execution_count": null,
   "id": "389d2eff",
   "metadata": {},
   "outputs": [],
   "source": [
    "l = [[1,2,3,4],(2,3,4,5,6) ,(3,4,5,6,7) , set ([23,4,5,45, 4,4,5,45,4,5]), {\"k1\" : \"\"}]"
   ]
  },
  {
   "cell_type": "code",
   "execution_count": 71,
   "id": "f96106bf",
   "metadata": {},
   "outputs": [
    {
     "name": "stdout",
     "output_type": "stream",
     "text": [
      "                                                ruluyiswuro \n",
      "\n",
      "                                    ruluyiswuro ruluyiswuro ruluyiswuro \n",
      "\n",
      "                        ruluyiswuro ruluyiswuro ruluyiswuro ruluyiswuro ruluyiswuro \n",
      "\n",
      "            ruluyiswuro ruluyiswuro ruluyiswuro ruluyiswuro ruluyiswuro ruluyiswuro ruluyiswuro \n",
      "\n",
      "ruluyiswuro ruluyiswuro ruluyiswuro ruluyiswuro ruluyiswuro ruluyiswuro ruluyiswuro ruluyiswuro ruluyiswuro \n",
      "\n"
     ]
    }
   ],
   "source": [
    "n = 5\n",
    "for i in range(n):\n",
    "    for j in range(i, n-1):\n",
    "        print(\" \" * len(\"ruluyiswuro\"), end = \" \")\n",
    "    for j in range(0, i+1):\n",
    "        print(\"ruluyiswuro\", end = \" \")\n",
    "    for j in range (i):\n",
    "        print(\"ruluyiswuro\", end = \" \")\n",
    "    print(\"\\n\")"
   ]
  },
  {
   "cell_type": "code",
   "execution_count": null,
   "id": "e9e2aaf4",
   "metadata": {},
   "outputs": [],
   "source": []
  }
 ],
 "metadata": {
  "kernelspec": {
   "display_name": "Python 3 (ipykernel)",
   "language": "python",
   "name": "python3"
  },
  "language_info": {
   "codemirror_mode": {
    "name": "ipython",
    "version": 3
   },
   "file_extension": ".py",
   "mimetype": "text/x-python",
   "name": "python",
   "nbconvert_exporter": "python",
   "pygments_lexer": "ipython3",
   "version": "3.9.12"
  }
 },
 "nbformat": 4,
 "nbformat_minor": 5
}
