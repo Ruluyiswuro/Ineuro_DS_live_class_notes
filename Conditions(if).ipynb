{
 "cells": [
  {
   "cell_type": "code",
   "execution_count": 8,
   "id": "ece81b72",
   "metadata": {},
   "outputs": [
    {
     "name": "stdout",
     "output_type": "stream",
     "text": [
      "this is my first condition\n"
     ]
    }
   ],
   "source": [
    "a = 10\n",
    "if a == 10 :\n",
    "    print(\"this is my first condition\")"
   ]
  },
  {
   "cell_type": "code",
   "execution_count": 4,
   "id": "3f920000",
   "metadata": {},
   "outputs": [],
   "source": [
    "a = 10\n",
    "if a >5 :\n",
    "    pass"
   ]
  },
  {
   "cell_type": "code",
   "execution_count": 6,
   "id": "99c3e294",
   "metadata": {},
   "outputs": [
    {
     "name": "stdout",
     "output_type": "stream",
     "text": [
      "print this if condition is true \n"
     ]
    }
   ],
   "source": [
    "a = 10\n",
    "if a >8 :\n",
    "    print(\"print this if condition is true \")"
   ]
  },
  {
   "cell_type": "code",
   "execution_count": 7,
   "id": "09e190f2",
   "metadata": {},
   "outputs": [
    {
     "name": "stdout",
     "output_type": "stream",
     "text": [
      "my condition is false\n"
     ]
    }
   ],
   "source": [
    "a = 10\n",
    "if a != 11:\n",
    "    print (\"my condition is false\")\n",
    "else :\n",
    "    print(\"print this\")"
   ]
  },
  {
   "cell_type": "code",
   "execution_count": 9,
   "id": "2871cfe0",
   "metadata": {},
   "outputs": [
    {
     "name": "stdout",
     "output_type": "stream",
     "text": [
      "print this\n"
     ]
    }
   ],
   "source": [
    "a = 10\n",
    "if a == 11:\n",
    "    print (\"my condition is false\")\n",
    "else :\n",
    "    print(\"print this\")"
   ]
  },
  {
   "cell_type": "code",
   "execution_count": 11,
   "id": "57067782",
   "metadata": {},
   "outputs": [
    {
     "name": "stdout",
     "output_type": "stream",
     "text": [
      "we akre trying ti comapare 10 with 11\n"
     ]
    }
   ],
   "source": [
    "a = 10\n",
    "if a == 12 :\n",
    "    print(\"here we are trying to coompare 10 with 12\")\n",
    "elif a ==10:\n",
    "    print(\"we akre trying ti comapare 10 with 11\")\n",
    "else :\n",
    "    print(\"if all the blocks will fail then do this\")"
   ]
  },
  {
   "cell_type": "code",
   "execution_count": 16,
   "id": "b13fefc1",
   "metadata": {},
   "outputs": [
    {
     "name": "stdout",
     "output_type": "stream",
     "text": [
      "for sure I will be able to buy\n"
     ]
    }
   ],
   "source": [
    "price = 500\n",
    "\n",
    "if price > 500 :\n",
    "    print(\"may be I won't be able to buy a jacket\")\n",
    "elif price < 500 :\n",
    "    print(\"I will be able to be buy a jacket\")\n",
    "elif price == 500 :\n",
    "    print (\"for sure I will be able to buy\")\n",
    "else :\n",
    "    print (\"I don't know\")"
   ]
  },
  {
   "cell_type": "code",
   "execution_count": 17,
   "id": "3f43a86a",
   "metadata": {},
   "outputs": [
    {
     "data": {
      "text/plain": [
       "False"
      ]
     },
     "execution_count": 17,
     "metadata": {},
     "output_type": "execute_result"
    }
   ],
   "source": [
    "price > 500"
   ]
  },
  {
   "cell_type": "code",
   "execution_count": 18,
   "id": "ae161c85",
   "metadata": {},
   "outputs": [
    {
     "data": {
      "text/plain": [
       "False"
      ]
     },
     "execution_count": 18,
     "metadata": {},
     "output_type": "execute_result"
    }
   ],
   "source": [
    "price < 500"
   ]
  },
  {
   "cell_type": "code",
   "execution_count": 19,
   "id": "851bd1fb",
   "metadata": {},
   "outputs": [
    {
     "data": {
      "text/plain": [
       "True"
      ]
     },
     "execution_count": 19,
     "metadata": {},
     "output_type": "execute_result"
    }
   ],
   "source": [
    "price == 500"
   ]
  },
  {
   "cell_type": "code",
   "execution_count": 20,
   "id": "d519cf6a",
   "metadata": {},
   "outputs": [
    {
     "data": {
      "text/plain": [
       "True"
      ]
     },
     "execution_count": 20,
     "metadata": {},
     "output_type": "execute_result"
    }
   ],
   "source": [
    "l = [1,2,3,4,5,6]\n",
    "2 in l"
   ]
  },
  {
   "cell_type": "code",
   "execution_count": 23,
   "id": "1722644a",
   "metadata": {},
   "outputs": [
    {
     "name": "stdout",
     "output_type": "stream",
     "text": [
      "do not perform this task\n"
     ]
    }
   ],
   "source": [
    "if 60 in l :\n",
    "    print(\"Try to perfoorm a task\")\n",
    "else : \n",
    "    print(\"do not perform this task\")"
   ]
  },
  {
   "cell_type": "code",
   "execution_count": 22,
   "id": "399c5849",
   "metadata": {},
   "outputs": [
    {
     "data": {
      "text/plain": [
       "False"
      ]
     },
     "execution_count": 22,
     "metadata": {},
     "output_type": "execute_result"
    }
   ],
   "source": [
    "60 in l"
   ]
  },
  {
   "cell_type": "code",
   "execution_count": 25,
   "id": "46f3668f",
   "metadata": {},
   "outputs": [
    {
     "data": {
      "text/plain": [
       "[1, 2, 3, 4, 5, 6]"
      ]
     },
     "execution_count": 25,
     "metadata": {},
     "output_type": "execute_result"
    }
   ],
   "source": [
    "l"
   ]
  },
  {
   "cell_type": "code",
   "execution_count": null,
   "id": "d773a471",
   "metadata": {},
   "outputs": [],
   "source": [
    "if 10 in l :\n",
    "    print(\"try to do addition\")\n",
    "elif 2 in l :\n",
    "    print(\"try to do sub\")\n",
    "elif 3 in l :\n",
    "    print(\"try to do multiplictation\")"
   ]
  },
  {
   "cell_type": "code",
   "execution_count": 28,
   "id": "ccd99bd1",
   "metadata": {},
   "outputs": [
    {
     "name": "stdout",
     "output_type": "stream",
     "text": [
      "try to do sub\n",
      "try this new statement\n"
     ]
    }
   ],
   "source": [
    "if 10 in l :\n",
    "    print(\"try to do addition\")\n",
    "elif 2 in l :\n",
    "    print(\"try to do sub\")\n",
    "elif 3 in l :\n",
    "    print(\"try to do multiplictation\")\n",
    "if 4 in l :\n",
    "    print(\"try this new statement\")"
   ]
  },
  {
   "cell_type": "code",
   "execution_count": 29,
   "id": "9f5fa36a",
   "metadata": {},
   "outputs": [],
   "source": [
    "a = 400"
   ]
  },
  {
   "cell_type": "code",
   "execution_count": null,
   "id": "b8bcb3aa",
   "metadata": {},
   "outputs": [],
   "source": [
    "b = int(input())"
   ]
  },
  {
   "cell_type": "code",
   "execution_count": null,
   "id": "54e8a3d2",
   "metadata": {},
   "outputs": [],
   "source": [
    "b\n"
   ]
  },
  {
   "cell_type": "code",
   "execution_count": null,
   "id": "b7e28da0",
   "metadata": {},
   "outputs": [],
   "source": [
    "type(b)\n"
   ]
  },
  {
   "cell_type": "code",
   "execution_count": null,
   "id": "ee70b74d",
   "metadata": {},
   "outputs": [],
   "source": [
    "a = 400"
   ]
  },
  {
   "cell_type": "code",
   "execution_count": null,
   "id": "8d887191",
   "metadata": {},
   "outputs": [],
   "source": [
    "b = input()"
   ]
  },
  {
   "cell_type": "code",
   "execution_count": null,
   "id": "eaf6c8c8",
   "metadata": {},
   "outputs": [],
   "source": [
    "price = int(input())\n",
    "if price <500 :\n",
    "    print(\"I will be able to but something\")\n",
    "    if price < 400 :\n",
    "        print(\"I will be able to buy a jacket\")\n",
    "    elif price is < 300 :\n",
    "        print(\"I will be abe to buy a shirt\")\n",
    "    else :\n",
    "        print(\"I won't be able to buy anything\")\n",
    "else :\n",
    "    print(\"I won't be able to buy anything with this price tag\")\n",
    "    "
   ]
  },
  {
   "cell_type": "code",
   "execution_count": null,
   "id": "f94c852f",
   "metadata": {},
   "outputs": [],
   "source": []
  }
 ],
 "metadata": {
  "kernelspec": {
   "display_name": "Python 3 (ipykernel)",
   "language": "python",
   "name": "python3"
  },
  "language_info": {
   "codemirror_mode": {
    "name": "ipython",
    "version": 3
   },
   "file_extension": ".py",
   "mimetype": "text/x-python",
   "name": "python",
   "nbconvert_exporter": "python",
   "pygments_lexer": "ipython3",
   "version": "3.9.12"
  }
 },
 "nbformat": 4,
 "nbformat_minor": 5
}
